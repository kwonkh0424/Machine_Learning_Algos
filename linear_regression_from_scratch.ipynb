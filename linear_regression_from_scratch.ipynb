{
 "cells": [
  {
   "cell_type": "code",
   "execution_count": 26,
   "id": "28d5e2cb",
   "metadata": {},
   "outputs": [],
   "source": [
    "import numpy as np\n",
    "import matplotlib.pyplot as plt"
   ]
  },
  {
   "cell_type": "code",
   "execution_count": 2,
   "id": "d1d28a25",
   "metadata": {},
   "outputs": [],
   "source": [
    "from sklearn import datasets\n",
    "from sklearn.model_selection import train_test_split\n"
   ]
  },
  {
   "cell_type": "code",
   "execution_count": 3,
   "id": "79223da5",
   "metadata": {},
   "outputs": [],
   "source": [
    "# load dataset\n",
    "X, y = datasets.make_regression(\n",
    "    n_samples=1000, n_features=1, noise=20, random_state=1\n",
    ")\n"
   ]
  },
  {
   "cell_type": "code",
   "execution_count": 24,
   "id": "01e46b02",
   "metadata": {},
   "outputs": [],
   "source": [
    "class Linear_Regression:\n",
    "    def __init__(self, learning_rate=1e-3, n_iters=1000):\n",
    "        self.lr = learning_rate\n",
    "        self.niter = n_iters\n",
    "        self.weights = 0 #B1, ..., Bn\n",
    "        self.bias = 0 #B0\n",
    "    \n",
    "    def init_parameters(self, X, y):\n",
    "        self.n, self.n_feat = X.shape\n",
    "        self.weights = np.zeros(self.n_feat)\n",
    "        self.bias = 0\n",
    "        \n",
    "    def update_parameters(self, dw, db):\n",
    "        \n",
    "        self.weights -= self.lr * dw #updating coefficients (weights)\n",
    "        self.bias -= self.lr * db #updating bias (B0)\n",
    "        \n",
    "    def fit(self, X, y):\n",
    "        self.init_parameters(X, y)\n",
    "        \n",
    "        for i in range(self.niter):\n",
    "            y_hat = self.calc_predictions(X)\n",
    "            dw, db = self.calc_gradients(X,y,y_hat)\n",
    "            self.update_parameters(dw, db)\n",
    "            \n",
    "            # Add early-stopping\n",
    "            \n",
    "    def calc_gradients(self, X, y, y_hat):\n",
    "        error = y_hat - y\n",
    "        \n",
    "        dw = np.dot(X.T, error)/self.n\n",
    "        db = np.sum(error) / self.n\n",
    "        \n",
    "        return dw, db\n",
    "        \n",
    "    def calc_predictions(self, X):\n",
    "        return np.dot(X, self.weights) + self.bias\n",
    "    \n",
    "    def predict(self, X):\n",
    "        y_hat = self.calc_predictions(X)\n",
    "        return y_hat\n",
    "    \n",
    "def MSE (y, y_hat):\n",
    "    MSE = np.mean((y-y_hat)**2)\n",
    "    return MSE"
   ]
  },
  {
   "cell_type": "code",
   "execution_count": 38,
   "id": "3353d53e",
   "metadata": {},
   "outputs": [
    {
     "name": "stdout",
     "output_type": "stream",
     "text": [
      "450.57252328503773\n"
     ]
    }
   ],
   "source": [
    "X_train, X_test, y_train, y_test = train_test_split(X, y, test_size=0.2)\n",
    "\n",
    "# instantiate regressor\n",
    "linreg = Linear_Regression(learning_rate=0.005)\n",
    "linreg.fit(X_train, y_train)\n",
    "\n",
    "y_hat = linreg.predict(X_test)\n",
    "\n",
    "print(MSE(y_test, y_hat))"
   ]
  },
  {
   "cell_type": "code",
   "execution_count": null,
   "id": "ab36a57e",
   "metadata": {},
   "outputs": [],
   "source": []
  },
  {
   "cell_type": "code",
   "execution_count": 40,
   "id": "8aa785bc",
   "metadata": {},
   "outputs": [
    {
     "data": {
      "image/png": "[encoded data removed]",
      "text/plain": [
       "<Figure size 720x504 with 1 Axes>"
      ]
     },
     "metadata": {
      "needs_background": "light"
     },
     "output_type": "display_data"
    }
   ],
   "source": [
    "fig, ax = plt.subplots(figsize=(10,7))\n",
    "ax.scatter(X_test,y_test)\n",
    "ax.plot(X_test, y_hat, color = 'red')\n",
    "plt.show()"
   ]
  },
  {
   "cell_type": "code",
   "execution_count": null,
   "id": "973d0b93",
   "metadata": {},
   "outputs": [],
   "source": []
  }
 ],
 "metadata": {
  "kernelspec": {
   "display_name": "Python 3",
   "language": "python",
   "name": "python3"
  },
  "language_info": {
   "codemirror_mode": {
    "name": "ipython",
    "version": 3
   },
   "file_extension": ".py",
   "mimetype": "text/x-python",
   "name": "python",
   "nbconvert_exporter": "python",
   "pygments_lexer": "ipython3",
   "version": "3.8.11"
  }
 },
 "nbformat": 4,
 "nbformat_minor": 5
}
